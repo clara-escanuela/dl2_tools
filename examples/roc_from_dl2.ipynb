{
 "cells": [
  {
   "cell_type": "markdown",
   "metadata": {},
   "source": [
    "## ROC from dl2 files"
   ]
  },
  {
   "cell_type": "markdown",
   "metadata": {},
   "source": [
    "This is an example of the simplest possible way to calcualte an ROC plot from a signal and background dl2 file"
   ]
  },
  {
   "cell_type": "code",
   "execution_count": 10,
   "metadata": {},
   "outputs": [],
   "source": [
    "import numpy as np\n",
    "from dl2_tools.handler import sim_datasets,observation_handler\n",
    "from dl2_tools.maker import roc_maker\n",
    "import pkg_resources\n",
    "import matplotlib.pyplot as plt\n",
    "from pyirf.spectral import CRAB_HEGRA, IRFDOC_PROTON_SPECTRUM\n",
    "\n",
    "import os"
   ]
  },
  {
   "cell_type": "markdown",
   "metadata": {},
   "source": [
    "Get the directory where the data that comes with the package is stored"
   ]
  },
  {
   "cell_type": "code",
   "execution_count": 2,
   "metadata": {},
   "outputs": [],
   "source": [
    "dl2_tools_dir = pkg_resources.resource_filename(\"dl2_tools\",\"\")\n",
    "data_dir = os.path.join(dl2_tools_dir, 'data')\n"
   ]
  },
  {
   "cell_type": "markdown",
   "metadata": {},
   "source": [
    "Load the individual files as DataSets. The point-like gammas are stored as a PointSourceSignalSet, the diffuse protons as a BackgroundSet "
   ]
  },
  {
   "cell_type": "code",
   "execution_count": 3,
   "metadata": {},
   "outputs": [],
   "source": [
    "signal=sim_datasets.PointSourceSignalSet.from_path(os.path.join(data_dir,\"dl2_files/1-2run_gamma_20deg_0deg___cta-prod6-paranal-2147m-Paranal-nshow-100000-0-LSTs-14-MSTs-0-SSTs-NSCAT_5_CSCAT_1000-nsb-0.216-GHz_off0.0..FCExt--HillasReco--RF_red_100_est_dpth_20_01_lk_cut_int_wgt--IP_NC_dummy----RFCl_100_est_dpth_20_int_wgt.dl2.h5\"),reco_energy_name=\"RF_red_100_est_dpth_20_01_lk_cut_int_wgt\",geometry_name=\"HillasReconstructor\",gh_score_name=\"RFCl_100_est_dpth_20_int_wgt\")\n",
    "background=sim_datasets.BackgroundSet.from_path(os.path.join(data_dir,\"dl2_files/360-375run_proton_20deg_0deg___cta-prod6-paranal-2147m-Paranal-nshow-1200000-0-LSTs-14-MSTs-0-SSTs-NSCAT_5_CSCAT_1000_ESLOPE_2.7_off0.0..FCExt--HillasReco--RF_red_100_est_dpth_20_01_lk_cut_int_wgt--IP_NC_dummy----RFCl_100_est_dpth_20_int_wgt.dl2.h5\"),reco_energy_name=\"RF_red_100_est_dpth_20_01_lk_cut_int_wgt\",geometry_name=\"HillasReconstructor\",gh_score_name=\"RFCl_100_est_dpth_20_int_wgt\")"
   ]
  },
  {
   "cell_type": "markdown",
   "metadata": {},
   "source": [
    "Both of these are then passed to a PointSourceObservationHandler object"
   ]
  },
  {
   "cell_type": "code",
   "execution_count": 4,
   "metadata": {},
   "outputs": [],
   "source": [
    "observation=observation_handler.PointSourceObservationHandler(signal=[signal],background=[background])"
   ]
  },
  {
   "cell_type": "markdown",
   "metadata": {},
   "source": [
    "For the ROC the weights are important. We here set them according to a flux from pyirf.spectral "
   ]
  },
  {
   "cell_type": "code",
   "execution_count": 5,
   "metadata": {},
   "outputs": [],
   "source": [
    "observation.signal.reweight_to(CRAB_HEGRA)\n",
    "observation.background.reweight_to(IRFDOC_PROTON_SPECTRUM)"
   ]
  },
  {
   "cell_type": "markdown",
   "metadata": {},
   "source": [
    "Next we set upt the ROCMaker, which make sthe plot from the observation."
   ]
  },
  {
   "cell_type": "code",
   "execution_count": 11,
   "metadata": {},
   "outputs": [],
   "source": [
    "my_roc_maker=roc_maker.ROCMaker()\n",
    "my_roc_maker.loss_vector=np.linspace(0.01,0.99,99) # Signal loss fractions to evaluate the curve at\n",
    "my_roc_maker.radius_percentile=90 # The radius cut to set after g/h separation. This of course affects the purity\n",
    "my_roc_maker.N_reco_energy_bins=10 # Number of bins in reconstructed energy to evaluate the gh and radius cut in"
   ]
  },
  {
   "cell_type": "markdown",
   "metadata": {},
   "source": [
    "Run the roc_maker on the observation"
   ]
  },
  {
   "cell_type": "code",
   "execution_count": 12,
   "metadata": {},
   "outputs": [],
   "source": [
    "my_roc_maker(observation)"
   ]
  },
  {
   "cell_type": "markdown",
   "metadata": {},
   "source": [
    "And plot the ROC curve from it. The low statistics of the dataset use make it so jiggly."
   ]
  },
  {
   "cell_type": "code",
   "execution_count": 8,
   "metadata": {},
   "outputs": [
    {
     "data": {
      "image/png": "[encoded data removed]",
      "text/plain": [
       "<Figure size 640x480 with 1 Axes>"
      ]
     },
     "metadata": {},
     "output_type": "display_data"
    }
   ],
   "source": [
    "roc_fig, roc_ax = plt.subplots()\n",
    "my_roc_maker.make_plot(roc_ax)\n"
   ]
  },
  {
   "cell_type": "markdown",
   "metadata": {},
   "source": [
    "Finally, we can calculate the area under the curve (auc) as a measure of the quality of the g/h separation"
   ]
  },
  {
   "cell_type": "code",
   "execution_count": 9,
   "metadata": {},
   "outputs": [
    {
     "data": {
      "text/plain": [
       "array([0.86210464])"
      ]
     },
     "execution_count": 9,
     "metadata": {},
     "output_type": "execute_result"
    }
   ],
   "source": [
    "my_roc_maker.integrate_auc()"
   ]
  }
 ],
 "metadata": {
  "kernelspec": {
   "display_name": "dl2_tools",
   "language": "python",
   "name": "python3"
  },
  "language_info": {
   "codemirror_mode": {
    "name": "ipython",
    "version": 3
   },
   "file_extension": ".py",
   "mimetype": "text/x-python",
   "name": "python",
   "nbconvert_exporter": "python",
   "pygments_lexer": "ipython3",
   "version": "3.10.0"
  },
  "orig_nbformat": 4,
  "vscode": {
   "interpreter": {
    "hash": "d3e7df0d054ae32a97a4ae761b3f0de03ef6ffc7664a0f829564bbd70bda3e32"
   }
  }
 },
 "nbformat": 4,
 "nbformat_minor": 2
}
