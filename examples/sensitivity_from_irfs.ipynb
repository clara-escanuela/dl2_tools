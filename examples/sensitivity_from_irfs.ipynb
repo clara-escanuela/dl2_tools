{
 "cells": [
  {
   "cell_type": "markdown",
   "metadata": {},
   "source": [
    "## Calculate sensitivity curve from a set of IRFs"
   ]
  },
  {
   "cell_type": "code",
   "execution_count": 12,
   "metadata": {},
   "outputs": [],
   "source": [
    "from dl2_tools.maker import PSSensitivityCalculator\n",
    "from dl2_tools.handler import IRFHandler\n",
    "from gammapy.irf import EffectiveAreaTable2D,EnergyDispersion2D,PSF3D,Background2D\n",
    "import pkg_resources\n",
    "import os\n",
    "import matplotlib.pyplot as plt"
   ]
  },
  {
   "cell_type": "markdown",
   "metadata": {},
   "source": [
    "Get the directory where the data that comes with the package is stored"
   ]
  },
  {
   "cell_type": "code",
   "execution_count": 4,
   "metadata": {},
   "outputs": [],
   "source": [
    "dl2_tools_dir = pkg_resources.resource_filename(\"dl2_tools\",\"\")\n",
    "data_dir = os.path.join(dl2_tools_dir, 'data')"
   ]
  },
  {
   "cell_type": "markdown",
   "metadata": {},
   "source": [
    "Load the IRFs from file"
   ]
  },
  {
   "cell_type": "code",
   "execution_count": 5,
   "metadata": {},
   "outputs": [],
   "source": [
    "aeff=EffectiveAreaTable2D.read(os.path.join(data_dir,\"irfs/Aeff_true_0.01TeV_200.0TeV_49bins_fov_off_0.0deg_0.1deg_1bins_.fits\"))\n",
    "psf=PSF3D.read(os.path.join(data_dir,\"irfs/PSF_true_0.01TeV_200.0TeV_49bins_psf_off_0.0deg_2.0deg_499bins_fov_off_0.0deg_0.1deg_1bins_.fits\"))\n",
    "edisp=EnergyDispersion2D.read(os.path.join(data_dir,\"irfs/Edisp_true_0.01TeV_200.0TeV_49bins_reco_0.01_10.0_49bins_fov_off_0.0deg_0.1deg_1bins_.fits\"))\n",
    "bkg=Background2D.read(os.path.join(data_dir,\"irfs/bkg_reco_0.01TeV_200.0TeV_49bins_fov_off_0.0deg_10.0deg_9bins_.fits\"))"
   ]
  },
  {
   "cell_type": "markdown",
   "metadata": {},
   "source": [
    "And pass these to an IRFHandler. In areal workflow, you would probebly directly get passed an IRFHandler from an IRFMaker that creates the IRFs from dl2 data"
   ]
  },
  {
   "cell_type": "code",
   "execution_count": 6,
   "metadata": {},
   "outputs": [],
   "source": [
    "irf_handler=IRFHandler(aeff=aeff,edisp=edisp,psf=psf,bkg_model=bkg)"
   ]
  },
  {
   "cell_type": "markdown",
   "metadata": {},
   "source": [
    "Then, we set up the PSSensitivityCalculator"
   ]
  },
  {
   "cell_type": "code",
   "execution_count": 7,
   "metadata": {},
   "outputs": [],
   "source": [
    "ps_sens_calculator=PSSensitivityCalculator()"
   ]
  },
  {
   "cell_type": "markdown",
   "metadata": {},
   "source": [
    "And calculate the sensitivity table"
   ]
  },
  {
   "cell_type": "code",
   "execution_count": 9,
   "metadata": {},
   "outputs": [],
   "source": [
    "sens_table=ps_sens_calculator(irf_handler)"
   ]
  },
  {
   "cell_type": "code",
   "execution_count": 10,
   "metadata": {},
   "outputs": [
    {
     "data": {
      "text/html": [
       "<div><i>Table length=20</i>\n",
       "<table id=\"table139872931518528\" class=\"table-striped table-bordered table-condensed\">\n",
       "<thead><tr><th>energy</th><th>e2dnde</th><th>excess</th><th>background</th><th>criterion</th></tr></thead>\n",
       "<thead><tr><th>TeV</th><th>erg / (cm2 s)</th><th></th><th></th><th></th></tr></thead>\n",
       "<thead><tr><th>float64</th><th>float64</th><th>float64</th><th>float64</th><th>bytes12</th></tr></thead>\n",
       "<tr><td>0.11885</td><td>2.78991e-13</td><td>108.638</td><td>1051.06</td><td>significance</td></tr>\n",
       "<tr><td>0.16788</td><td>2.78768e-13</td><td>123.323</td><td>1233.23</td><td>bkg</td></tr>\n",
       "<tr><td>0.237137</td><td>2.33127e-13</td><td>106.093</td><td>1001.45</td><td>significance</td></tr>\n",
       "<tr><td>0.334965</td><td>2.25864e-13</td><td>83.2688</td><td>610.136</td><td>significance</td></tr>\n",
       "<tr><td>0.473151</td><td>1.8635e-13</td><td>65.7166</td><td>374.828</td><td>significance</td></tr>\n",
       "<tr><td>0.668344</td><td>1.71492e-13</td><td>52.6642</td><td>236.832</td><td>significance</td></tr>\n",
       "<tr><td>0.944061</td><td>1.53035e-13</td><td>36.573</td><td>110.128</td><td>significance</td></tr>\n",
       "<tr><td>1.33352</td><td>2.98829e-14</td><td>5.46674</td><td>1.07413</td><td>significance</td></tr>\n",
       "<tr><td>1.88365</td><td>4.19162e-14</td><td>5</td><td>0</td><td>gamma</td></tr>\n",
       "<tr><td>2.66073</td><td>6.07068e-14</td><td>5</td><td>0</td><td>gamma</td></tr>\n",
       "<tr><td>3.75837</td><td>6.69244e-14</td><td>5</td><td>0</td><td>gamma</td></tr>\n",
       "<tr><td>5.30884</td><td>8.29527e-14</td><td>5</td><td>0</td><td>gamma</td></tr>\n",
       "<tr><td>7.49894</td><td>1.25503e-13</td><td>5</td><td>0</td><td>gamma</td></tr>\n",
       "<tr><td>10.5925</td><td>1.85069e-13</td><td>5</td><td>0</td><td>gamma</td></tr>\n",
       "<tr><td>14.9624</td><td>2.54794e-13</td><td>5</td><td>0</td><td>gamma</td></tr>\n",
       "<tr><td>21.1349</td><td>3.90028e-13</td><td>5</td><td>0</td><td>gamma</td></tr>\n",
       "<tr><td>29.8538</td><td>5.4928e-13</td><td>5</td><td>0</td><td>gamma</td></tr>\n",
       "<tr><td>42.1697</td><td>9.46706e-13</td><td>5</td><td>0</td><td>gamma</td></tr>\n",
       "<tr><td>59.5662</td><td>1.25431e-12</td><td>5</td><td>0</td><td>gamma</td></tr>\n",
       "<tr><td>84.1395</td><td>2.12856e-12</td><td>5</td><td>0</td><td>gamma</td></tr>\n",
       "</table></div>"
      ],
      "text/plain": [
       "<Table length=20>\n",
       " energy      e2dnde     excess background  criterion  \n",
       "  TeV    erg / (cm2 s)                                \n",
       "float64     float64    float64  float64     bytes12   \n",
       "-------- ------------- ------- ---------- ------------\n",
       " 0.11885   2.78991e-13 108.638    1051.06 significance\n",
       " 0.16788   2.78768e-13 123.323    1233.23          bkg\n",
       "0.237137   2.33127e-13 106.093    1001.45 significance\n",
       "0.334965   2.25864e-13 83.2688    610.136 significance\n",
       "0.473151    1.8635e-13 65.7166    374.828 significance\n",
       "0.668344   1.71492e-13 52.6642    236.832 significance\n",
       "0.944061   1.53035e-13  36.573    110.128 significance\n",
       " 1.33352   2.98829e-14 5.46674    1.07413 significance\n",
       " 1.88365   4.19162e-14       5          0        gamma\n",
       " 2.66073   6.07068e-14       5          0        gamma\n",
       " 3.75837   6.69244e-14       5          0        gamma\n",
       " 5.30884   8.29527e-14       5          0        gamma\n",
       " 7.49894   1.25503e-13       5          0        gamma\n",
       " 10.5925   1.85069e-13       5          0        gamma\n",
       " 14.9624   2.54794e-13       5          0        gamma\n",
       " 21.1349   3.90028e-13       5          0        gamma\n",
       " 29.8538    5.4928e-13       5          0        gamma\n",
       " 42.1697   9.46706e-13       5          0        gamma\n",
       " 59.5662   1.25431e-12       5          0        gamma\n",
       " 84.1395   2.12856e-12       5          0        gamma"
      ]
     },
     "execution_count": 10,
     "metadata": {},
     "output_type": "execute_result"
    }
   ],
   "source": [
    "sens_table"
   ]
  },
  {
   "cell_type": "markdown",
   "metadata": {},
   "source": [
    "Then, we can also plot the sensitvity curve. The plotting script is taken from the gammapy point source sesitvity tutorial. Look there for further information"
   ]
  },
  {
   "cell_type": "code",
   "execution_count": 14,
   "metadata": {},
   "outputs": [
    {
     "data": {
      "image/png": "[encoded data removed]",
      "text/plain": [
       "<Figure size 640x480 with 1 Axes>"
      ]
     },
     "metadata": {},
     "output_type": "display_data"
    }
   ],
   "source": [
    "fig,ax=plt.subplots()\n",
    "PSSensitivityCalculator.plot_sensitvity_curve(ax,sens_table)"
   ]
  }
 ],
 "metadata": {
  "kernelspec": {
   "display_name": "dl2_tools",
   "language": "python",
   "name": "python3"
  },
  "language_info": {
   "codemirror_mode": {
    "name": "ipython",
    "version": 3
   },
   "file_extension": ".py",
   "mimetype": "text/x-python",
   "name": "python",
   "nbconvert_exporter": "python",
   "pygments_lexer": "ipython3",
   "version": "3.10.0"
  },
  "orig_nbformat": 4,
  "vscode": {
   "interpreter": {
    "hash": "d3e7df0d054ae32a97a4ae761b3f0de03ef6ffc7664a0f829564bbd70bda3e32"
   }
  }
 },
 "nbformat": 4,
 "nbformat_minor": 2
}
